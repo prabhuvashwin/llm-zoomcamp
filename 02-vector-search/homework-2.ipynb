{
 "cells": [
  {
   "cell_type": "code",
   "execution_count": 72,
   "id": "81e5fc39-1c3d-4bcb-8c7a-702a99238736",
   "metadata": {},
   "outputs": [],
   "source": [
    "import requests \n",
    "\n",
    "docs_url = 'https://github.com/alexeygrigorev/llm-rag-workshop/raw/main/notebooks/documents.json'\n",
    "docs_response = requests.get(docs_url) # Getting docs\n",
    "documents_raw = docs_response.json()\n",
    "\n",
    "documents = []\n",
    "\n",
    "for course in documents_raw:\n",
    "    course_name = course['course']\n",
    "\n",
    "    for doc in course['documents']:\n",
    "        doc['course'] = course_name\n",
    "        documents.append(doc)"
   ]
  },
  {
   "cell_type": "code",
   "execution_count": 73,
   "id": "d0b1eda8-034c-4230-98a9-9802a4545351",
   "metadata": {},
   "outputs": [],
   "source": [
    "# RAG with Vector Search\n",
    "\n",
    "# qdrant and fastembed are already installed using pip\n",
    "# qdrant client is running using docker\n",
    "\n",
    "from qdrant_client import QdrantClient, models\n",
    "\n",
    "qd_client = QdrantClient(\"http://localhost:6333\")\n",
    "\n",
    "EMBEDDING_DIMENSIONALITY = 512\n",
    "\n",
    "model_handle = \"jinaai/jina-embeddings-v2-small-en\""
   ]
  },
  {
   "cell_type": "code",
   "execution_count": 74,
   "id": "1421f7c8-565d-42ab-a1f5-214db44812ac",
   "metadata": {},
   "outputs": [
    {
     "data": {
      "text/plain": [
       "True"
      ]
     },
     "execution_count": 74,
     "metadata": {},
     "output_type": "execute_result"
    }
   ],
   "source": [
    "collection_name = \"hw_2\"\n",
    "\n",
    "qd_client.delete_collection(collection_name)\n",
    "\n",
    "# Create collection\n",
    "qd_client.create_collection(\n",
    "    collection_name=collection_name,\n",
    "    vectors_config=models.VectorParams(\n",
    "        size=EMBEDDING_DIMENSIONALITY,\n",
    "        distance=models.Distance.COSINE\n",
    "    )\n",
    ")"
   ]
  },
  {
   "cell_type": "code",
   "execution_count": 75,
   "id": "e72cae81-cbec-4673-b9d6-894cffc97202",
   "metadata": {},
   "outputs": [],
   "source": [
    "points = []\n",
    "id = 0\n",
    "\n",
    "for course in documents_raw:\n",
    "    for doc in course[\"documents\"]:\n",
    "\n",
    "        point = models.PointStruct(\n",
    "            id=id,\n",
    "            vector=models.Document(text=doc[\"text\"], model=model_handle), # embed text locally with \"jinaai/jina-embeddings-v2-small-en\" from FastEmbed\n",
    "            payload={\n",
    "                \"text\": doc[\"text\"],\n",
    "                \"section\": doc[\"section\"],\n",
    "                \"course\": course[\"course\"]\n",
    "            }\n",
    "        )\n",
    "        points.append(point)\n",
    "\n",
    "        id += 1"
   ]
  },
  {
   "cell_type": "code",
   "execution_count": 10,
   "id": "76c6f93d-63bb-496f-9ff9-0df72331a642",
   "metadata": {},
   "outputs": [
    {
     "data": {
      "text/plain": [
       "UpdateResult(operation_id=0, status=<UpdateStatus.COMPLETED: 'completed'>)"
      ]
     },
     "execution_count": 10,
     "metadata": {},
     "output_type": "execute_result"
    }
   ],
   "source": [
    "qd_client.upsert(\n",
    "    collection_name=collection_name,\n",
    "    points=points\n",
    ")"
   ]
  },
  {
   "cell_type": "code",
   "execution_count": 76,
   "id": "917c6496-5597-49cf-841d-a57efdf122c2",
   "metadata": {},
   "outputs": [],
   "source": [
    "# Search for docs\n",
    "def search(query, limit=1):\n",
    "\n",
    "    results = qd_client.query_points(\n",
    "        collection_name=collection_name,\n",
    "        query=models.Document(\n",
    "            text=query,\n",
    "            model=model_handle\n",
    "        ),\n",
    "        limit=limit,\n",
    "        with_payload=True\n",
    "    )\n",
    "\n",
    "    return results"
   ]
  },
  {
   "cell_type": "code",
   "execution_count": 77,
   "id": "08b6be07-6508-4e49-9e99-c0933f5f7f5c",
   "metadata": {},
   "outputs": [
    {
     "data": {
      "text/plain": [
       "QueryResponse(points=[])"
      ]
     },
     "execution_count": 77,
     "metadata": {},
     "output_type": "execute_result"
    }
   ],
   "source": [
    "question = \"I just discovered the course. Can I join now?\"\n",
    "\n",
    "results = search(question, limit=1)\n",
    "\n",
    "results"
   ]
  },
  {
   "cell_type": "code",
   "execution_count": 8,
   "id": "4d99de29-8499-4848-af61-f21273c08a9c",
   "metadata": {},
   "outputs": [],
   "source": [
    "from fastembed import TextEmbedding\n",
    "import numpy as np\n",
    "\n",
    "embed_model = TextEmbedding(model_handle)\n",
    "\n",
    "query_embedding = list(embed_model.embed([question]))[0]"
   ]
  },
  {
   "cell_type": "code",
   "execution_count": null,
   "id": "9300f4b1-aa78-40ff-a9b6-2826579606a6",
   "metadata": {},
   "outputs": [
    {
     "data": {
      "text/plain": [
       "np.float64(1.0)"
      ]
     },
     "execution_count": 9,
     "metadata": {},
     "output_type": "execute_result"
    }
   ],
   "source": [
    "np.linalg.norm(query_embedding)"
   ]
  },
  {
   "cell_type": "code",
   "execution_count": null,
   "id": "754c77c8-7832-42be-9d15-8389b54ffe42",
   "metadata": {},
   "outputs": [
    {
     "data": {
      "text/plain": [
       "np.float64(1.0000000000000002)"
      ]
     },
     "execution_count": 10,
     "metadata": {},
     "output_type": "execute_result"
    }
   ],
   "source": [
    "query_embedding.dot(query_embedding)"
   ]
  },
  {
   "cell_type": "markdown",
   "id": "9609eca8-c621-4727-a189-0202c89190f4",
   "metadata": {},
   "source": [
    "## Q1. Embedding the query\n",
    "\n",
    "Embed the query: 'I just discovered the course. Can I join now?'. Use the 'jinaai/jina-embeddings-v2-small-en' model.\n",
    "\n",
    "You should get a numpy array of size 512.\n",
    "\n",
    "What's the minimal value in this array?\n",
    "\n",
    "-0.51\n",
    "-0.11\n",
    "0\n",
    "0.51"
   ]
  },
  {
   "cell_type": "code",
   "execution_count": 11,
   "id": "1355644d-5402-4e03-a58a-74f77093b3fa",
   "metadata": {},
   "outputs": [
    {
     "data": {
      "text/plain": [
       "np.float64(-0.11726373885183883)"
      ]
     },
     "execution_count": 11,
     "metadata": {},
     "output_type": "execute_result"
    }
   ],
   "source": [
    "np.min(query_embedding)"
   ]
  },
  {
   "cell_type": "markdown",
   "id": "6097af2a-8076-4ce1-9e54-3a42e81f75fb",
   "metadata": {
    "jp-MarkdownHeadingCollapsed": true
   },
   "source": [
    "## Q2. Cosine similarity with another vector\n",
    "\n",
    "Now let's embed this document:\n",
    "\n",
    "doc = 'Can I still join the course after the start date?'\n",
    "\n",
    "What's the cosine similarity between the vector for the query and the vector for the document?\n",
    "\n",
    "0.3\n",
    "0.5\n",
    "0.7\n",
    "0.9"
   ]
  },
  {
   "cell_type": "code",
   "execution_count": 12,
   "id": "ba7cacb6-d2ac-4fa6-9f16-49ac7bb28627",
   "metadata": {},
   "outputs": [],
   "source": [
    "question_doc = 'Can I still join the course after the start date?'\n",
    "query_embedding_doc = list(embed_model.embed([question_doc]))[0]"
   ]
  },
  {
   "cell_type": "code",
   "execution_count": 13,
   "id": "390eecdf-861b-444f-bbe6-e2254b08ebd6",
   "metadata": {},
   "outputs": [
    {
     "data": {
      "text/plain": [
       "np.float64(0.9008528895674548)"
      ]
     },
     "execution_count": 13,
     "metadata": {},
     "output_type": "execute_result"
    }
   ],
   "source": [
    "query_embedding.dot(query_embedding_doc)"
   ]
  },
  {
   "cell_type": "markdown",
   "id": "1097591e-38ec-4722-88d5-f486bdd3b522",
   "metadata": {
    "jp-MarkdownHeadingCollapsed": true
   },
   "source": [
    "## Q3. Ranking by cosine\n",
    "\n",
    "For Q3 and Q4 we will use these documents:"
   ]
  },
  {
   "cell_type": "markdown",
   "id": "66089f5f-92fd-4828-acd6-c7355fb13b92",
   "metadata": {},
   "source": [
    "Compute the embeddings for the text field, and compute the cosine between the query vector and all the documents.\n",
    "\n",
    "What's the document index with the highest similarity? (Indexing starts from 0):\n",
    "\n",
    "0\n",
    "1\n",
    "2\n",
    "3\n",
    "4"
   ]
  },
  {
   "cell_type": "code",
   "execution_count": 43,
   "id": "d3070d4a-6b18-4496-a3b6-dcfdedce5401",
   "metadata": {},
   "outputs": [],
   "source": [
    "q3_4_documents = [{'text': \"Yes, even if you don't register, you're still eligible to submit the homeworks.\\nBe aware, however, that there will be deadlines for turning in the final projects. So don't leave everything for the last minute.\",\n",
    "  'section': 'General course-related questions',\n",
    "  'question': 'Course - Can I still join the course after the start date?',\n",
    "  'course': 'data-engineering-zoomcamp'},\n",
    " {'text': 'Yes, we will keep all the materials after the course finishes, so you can follow the course at your own pace after it finishes.\\nYou can also continue looking at the homeworks and continue preparing for the next cohort. I guess you can also start working on your final capstone project.',\n",
    "  'section': 'General course-related questions',\n",
    "  'question': 'Course - Can I follow the course after it finishes?',\n",
    "  'course': 'data-engineering-zoomcamp'},\n",
    " {'text': \"The purpose of this document is to capture frequently asked technical questions\\nThe exact day and hour of the course will be 15th Jan 2024 at 17h00. The course will start with the first  “Office Hours'' live.1\\nSubscribe to course public Google Calendar (it works from Desktop only).\\nRegister before the course starts using this link.\\nJoin the course Telegram channel with announcements.\\nDon’t forget to register in DataTalks.Club's Slack and join the channel.\",\n",
    "  'section': 'General course-related questions',\n",
    "  'question': 'Course - When will the course start?',\n",
    "  'course': 'data-engineering-zoomcamp'},\n",
    " {'text': 'You can start by installing and setting up all the dependencies and requirements:\\nGoogle cloud account\\nGoogle Cloud SDK\\nPython 3 (installed with Anaconda)\\nTerraform\\nGit\\nLook over the prerequisites and syllabus to see if you are comfortable with these subjects.',\n",
    "  'section': 'General course-related questions',\n",
    "  'question': 'Course - What can I do before the course starts?',\n",
    "  'course': 'data-engineering-zoomcamp'},\n",
    " {'text': 'Star the repo! Share it with friends if you find it useful ❣️\\nCreate a PR if you see you can improve the text or the structure of the repository.',\n",
    "  'section': 'General course-related questions',\n",
    "  'question': 'How can we contribute to the course?',\n",
    "  'course': 'data-engineering-zoomcamp'}]"
   ]
  },
  {
   "cell_type": "code",
   "execution_count": null,
   "id": "f59ebad1-c69e-4f49-a7e5-09f6d87f6704",
   "metadata": {},
   "outputs": [],
   "source": [
    "texts = []\n",
    "for doc in q3_4_documents:\n",
    "    texts.append(doc['text'])"
   ]
  },
  {
   "cell_type": "code",
   "execution_count": 47,
   "id": "0d71573b-f180-4ff0-a294-0dc2db62dfc1",
   "metadata": {},
   "outputs": [],
   "source": [
    "query_embedding_texts = list(embed_model.embed(texts))"
   ]
  },
  {
   "cell_type": "code",
   "execution_count": 50,
   "id": "77de271a-0d87-4792-baea-b9fd609e4e24",
   "metadata": {},
   "outputs": [
    {
     "data": {
      "text/plain": [
       "array([0.76296847, 0.81823782, 0.80853974, 0.7133079 , 0.73044992])"
      ]
     },
     "execution_count": 50,
     "metadata": {},
     "output_type": "execute_result"
    }
   ],
   "source": [
    "np.dot(query_embedding_texts, query_embedding)"
   ]
  },
  {
   "cell_type": "markdown",
   "id": "3e10f3b7-3118-4e69-885c-91557191cb9f",
   "metadata": {},
   "source": [
    "Document 0 Similarity: 0.76296847\n",
    "Document 1 Similarity: 0.81823782\n",
    "Document 2 Similarity: 0.80853974\n",
    "Document 3 Similarity: 0.7133079\n",
    "Document 4 Similarity: 0.73044992\n",
    "\n",
    "So ranking with the highest similarity is Document 1"
   ]
  },
  {
   "cell_type": "markdown",
   "id": "c3725616-280b-42a2-ab7d-d11b54ae5c42",
   "metadata": {
    "jp-MarkdownHeadingCollapsed": true
   },
   "source": [
    "## Q4. Ranking by cosine, version two\n",
    "\n",
    "Now let's calculate a new field, which is a concatenation of question and text:\n",
    "\n",
    "full_text = doc['question'] + ' ' + doc['text']\n",
    "Embed this field and compute the cosine between it and the query vector. What's the highest scoring document?\n",
    "\n",
    "0\n",
    "1\n",
    "2\n",
    "3\n",
    "4\n",
    "Is it different from Q3? If yes, why?"
   ]
  },
  {
   "cell_type": "code",
   "execution_count": 51,
   "id": "7b9dd08a-4c67-4584-aad3-7310c62114ac",
   "metadata": {},
   "outputs": [],
   "source": [
    "full_texts = []\n",
    "for doc in q3_4_documents:\n",
    "    full_texts.append(doc['question'] + ' ' + doc['text'])"
   ]
  },
  {
   "cell_type": "code",
   "execution_count": 52,
   "id": "a795602b-946b-4730-956c-64097747ce4c",
   "metadata": {},
   "outputs": [],
   "source": [
    "query_embedding_full_texts = list(embed_model.embed(full_texts))"
   ]
  },
  {
   "cell_type": "code",
   "execution_count": 53,
   "id": "79b94672-c819-4e09-8e2f-71130c7b08b5",
   "metadata": {},
   "outputs": [
    {
     "data": {
      "text/plain": [
       "array([0.85145432, 0.84365942, 0.8408287 , 0.7755158 , 0.80860078])"
      ]
     },
     "execution_count": 53,
     "metadata": {},
     "output_type": "execute_result"
    }
   ],
   "source": [
    "np.dot(query_embedding_full_texts, query_embedding)"
   ]
  },
  {
   "cell_type": "markdown",
   "id": "4897f5ce-abab-454b-bb9a-45734fa2e9ef",
   "metadata": {},
   "source": [
    "Document 0 Similarity = 0.85145432\n",
    "Document 1 Similarity = 0.84365942\n",
    "Document 2 Similarity = 0.8408287\n",
    "Document 3 Similarity = 0.7755158\n",
    "Document 4 Similarity = 0.80860078"
   ]
  },
  {
   "cell_type": "markdown",
   "id": "369e0da4-6fc8-4bd4-995b-79f07bb14203",
   "metadata": {},
   "source": [
    "## Q5. Selecting the embedding model\n",
    "\n",
    "Now let's select a smaller embedding model. What's the smallest dimensionality for models in fastembed?\n",
    "\n",
    "128\n",
    "256\n",
    "384\n",
    "512\n",
    "One of these models is BAAI/bge-small-en. Let's use it."
   ]
  },
  {
   "cell_type": "code",
   "execution_count": null,
   "id": "57787769-6908-4417-a438-552d9383a063",
   "metadata": {},
   "outputs": [
    {
     "name": "stdout",
     "output_type": "stream",
     "text": [
      "Model: BAAI/bge-base-en, Dimension: 768\n",
      "Model: BAAI/bge-base-en-v1.5, Dimension: 768\n",
      "Model: BAAI/bge-large-en-v1.5, Dimension: 1024\n",
      "Model: BAAI/bge-small-en, Dimension: 384\n",
      "Model: BAAI/bge-small-en-v1.5, Dimension: 384\n",
      "Model: BAAI/bge-small-zh-v1.5, Dimension: 512\n",
      "Model: mixedbread-ai/mxbai-embed-large-v1, Dimension: 1024\n",
      "Model: snowflake/snowflake-arctic-embed-xs, Dimension: 384\n",
      "Model: snowflake/snowflake-arctic-embed-s, Dimension: 384\n",
      "Model: snowflake/snowflake-arctic-embed-m, Dimension: 768\n",
      "Model: snowflake/snowflake-arctic-embed-m-long, Dimension: 768\n",
      "Model: snowflake/snowflake-arctic-embed-l, Dimension: 1024\n",
      "Model: jinaai/jina-clip-v1, Dimension: 768\n",
      "Model: Qdrant/clip-ViT-B-32-text, Dimension: 512\n",
      "Model: sentence-transformers/all-MiniLM-L6-v2, Dimension: 384\n",
      "Model: jinaai/jina-embeddings-v2-base-en, Dimension: 768\n",
      "Model: jinaai/jina-embeddings-v2-small-en, Dimension: 512\n",
      "Model: jinaai/jina-embeddings-v2-base-de, Dimension: 768\n",
      "Model: jinaai/jina-embeddings-v2-base-code, Dimension: 768\n",
      "Model: jinaai/jina-embeddings-v2-base-zh, Dimension: 768\n",
      "Model: jinaai/jina-embeddings-v2-base-es, Dimension: 768\n",
      "Model: thenlper/gte-base, Dimension: 768\n",
      "Model: thenlper/gte-large, Dimension: 1024\n",
      "Model: nomic-ai/nomic-embed-text-v1.5, Dimension: 768\n",
      "Model: nomic-ai/nomic-embed-text-v1.5-Q, Dimension: 768\n",
      "Model: nomic-ai/nomic-embed-text-v1, Dimension: 768\n",
      "Model: sentence-transformers/paraphrase-multilingual-MiniLM-L12-v2, Dimension: 384\n",
      "Model: sentence-transformers/paraphrase-multilingual-mpnet-base-v2, Dimension: 768\n",
      "Model: intfloat/multilingual-e5-large, Dimension: 1024\n",
      "Model: jinaai/jina-embeddings-v3, Dimension: 1024\n"
     ]
    }
   ],
   "source": [
    "supported_models = TextEmbedding.list_supported_models()\n",
    "\n",
    "for model in supported_models:\n",
    "    model_name = model['model']\n",
    "    dim = model['dim']\n",
    "    print(f\"Model: {model_name}, Dimension: {dim}\")"
   ]
  },
  {
   "cell_type": "markdown",
   "id": "4ca9674a-273d-4808-8c87-741174fc4677",
   "metadata": {},
   "source": [
    "Smallest model is of 384 dimensions:\n",
    "\n",
    "Model: BAAI/bge-small-en, Dimension: 384\n",
    "Model: BAAI/bge-small-en-v1.5, Dimension: 384\n",
    "Model: snowflake/snowflake-arctic-embed-xs, Dimension: 384\n",
    "Model: snowflake/snowflake-arctic-embed-s, Dimension: 384\n",
    "Model: sentence-transformers/all-MiniLM-L6-v2, Dimension: 384\n",
    "Model: sentence-transformers/paraphrase-multilingual-MiniLM-L12-v2, Dimension: 384"
   ]
  },
  {
   "cell_type": "markdown",
   "id": "9829aaae-59a1-4e57-a68f-0a14e3ad2ce7",
   "metadata": {},
   "source": [
    "# Q6. Indexing with qdrant (2 points)\n",
    "\n",
    "For the last question, we will use more documents.\n",
    "\n",
    "We will select only FAQ records from our ml zoomcamp:\n",
    "\n",
    "import requests \n",
    "\n",
    "docs_url = 'https://github.com/alexeygrigorev/llm-rag-workshop/raw/main/notebooks/documents.json'\n",
    "docs_response = requests.get(docs_url)\n",
    "documents_raw = docs_response.json()\n",
    "\n",
    "\n",
    "documents = []\n",
    "\n",
    "for course in documents_raw:\n",
    "    course_name = course['course']\n",
    "    if course_name != 'machine-learning-zoomcamp':\n",
    "        continue\n",
    "\n",
    "    for doc in course['documents']:\n",
    "        doc['course'] = course_name\n",
    "        documents.append(doc)\n",
    "\n",
    "Add them to qdrant using the model form Q5.\n",
    "\n",
    "When adding the data, use both question and answer fields:\n",
    "\n",
    "text = doc['question'] + ' ' + doc['text']\n",
    "\n",
    "After the data is inserted, use the question from Q1 for querying the collection.\n",
    "\n",
    "What's the highest score in the results? (The score for the first returned record):\n",
    "\n",
    "0.97\n",
    "0.87\n",
    "0.77\n",
    "0.67"
   ]
  },
  {
   "cell_type": "code",
   "execution_count": null,
   "id": "9fac3b3e-db48-4749-a7d4-04e6ff1cfac6",
   "metadata": {},
   "outputs": [
    {
     "name": "stdout",
     "output_type": "stream",
     "text": [
      "Num of docs: 375\n"
     ]
    }
   ],
   "source": [
    "ml_zoomcamp_documents = []\n",
    "for course in documents_raw:\n",
    "    course_name = course['course']\n",
    "    if course_name != 'machine-learning-zoomcamp':\n",
    "        continue\n",
    "        \n",
    "    for doc in course['documents']:\n",
    "        doc['course'] = course_name\n",
    "        ml_zoomcamp_documents.append(doc)\n",
    "\n",
    "print(f\"Num of docs: {len(ml_zoomcamp_documents)}\")"
   ]
  },
  {
   "cell_type": "code",
   "execution_count": 68,
   "id": "a296bdc7-1f8d-4eb5-a776-afa46103f2a1",
   "metadata": {},
   "outputs": [
    {
     "data": {
      "application/vnd.jupyter.widget-view+json": {
       "model_id": "7ca858467b0441079b5f12889178a4c1",
       "version_major": 2,
       "version_minor": 0
      },
      "text/plain": [
       "Fetching 5 files:   0%|          | 0/5 [00:00<?, ?it/s]"
      ]
     },
     "metadata": {},
     "output_type": "display_data"
    },
    {
     "data": {
      "application/vnd.jupyter.widget-view+json": {
       "model_id": "cd1d36a6eb894c9c80184af02df6f795",
       "version_major": 2,
       "version_minor": 0
      },
      "text/plain": [
       "config.json:   0%|          | 0.00/701 [00:00<?, ?B/s]"
      ]
     },
     "metadata": {},
     "output_type": "display_data"
    },
    {
     "data": {
      "application/vnd.jupyter.widget-view+json": {
       "model_id": "63fa4992508e42ae957c905af23fb508",
       "version_major": 2,
       "version_minor": 0
      },
      "text/plain": [
       "special_tokens_map.json:   0%|          | 0.00/125 [00:00<?, ?B/s]"
      ]
     },
     "metadata": {},
     "output_type": "display_data"
    },
    {
     "data": {
      "application/vnd.jupyter.widget-view+json": {
       "model_id": "6f60a3b47cf04ff8a7facee0b4390671",
       "version_major": 2,
       "version_minor": 0
      },
      "text/plain": [
       "tokenizer.json: 0.00B [00:00, ?B/s]"
      ]
     },
     "metadata": {},
     "output_type": "display_data"
    },
    {
     "data": {
      "application/vnd.jupyter.widget-view+json": {
       "model_id": "d0204683fc9a4565ba1384989bafdf90",
       "version_major": 2,
       "version_minor": 0
      },
      "text/plain": [
       "tokenizer_config.json:   0%|          | 0.00/366 [00:00<?, ?B/s]"
      ]
     },
     "metadata": {},
     "output_type": "display_data"
    },
    {
     "data": {
      "application/vnd.jupyter.widget-view+json": {
       "model_id": "8f40f296a45e40119d2263921f52a8a5",
       "version_major": 2,
       "version_minor": 0
      },
      "text/plain": [
       "model_optimized.onnx:   0%|          | 0.00/133M [00:00<?, ?B/s]"
      ]
     },
     "metadata": {},
     "output_type": "display_data"
    }
   ],
   "source": [
    "smaller_model_handle = \"BAAI/bge-small-en\"\n",
    "smaller_embedding_model = TextEmbedding(smaller_model_handle)"
   ]
  },
  {
   "cell_type": "code",
   "execution_count": 69,
   "id": "61dc31b6-de40-4fa8-b7ab-b8fde91aaebb",
   "metadata": {},
   "outputs": [],
   "source": [
    "smaller_embedding_dimension = 384"
   ]
  },
  {
   "cell_type": "code",
   "execution_count": null,
   "id": "d6445e63-62ec-4987-a99a-f6c008f14106",
   "metadata": {},
   "outputs": [
    {
     "data": {
      "text/plain": [
       "True"
      ]
     },
     "execution_count": 78,
     "metadata": {},
     "output_type": "execute_result"
    }
   ],
   "source": [
    "collection_name_q6 = \"hw2-q6\"\n",
    "\n",
    "qd_client.delete_collection(collection_name_q6)\n",
    "qd_client.create_collection(\n",
    "    collection_name=collection_name_q6,\n",
    "    vectors_config=models.VectorParams(\n",
    "        size=smaller_embedding_dimension,\n",
    "        distance=models.Distance.COSINE\n",
    "    )\n",
    ")"
   ]
  },
  {
   "cell_type": "code",
   "execution_count": null,
   "id": "ca4d1715-2cae-4150-b957-86c956740eab",
   "metadata": {},
   "outputs": [],
   "source": [
    "points = []\n",
    "id = 0\n",
    "\n",
    "for doc in ml_zoomcamp_documents:\n",
    "    full_text = doc['question'] + ' ' + doc['text']\n",
    "    \n",
    "    point = models.PointStruct(\n",
    "        id=id,\n",
    "        vector=models.Document(text=full_text, model=smaller_model_handle),\n",
    "        payload={\n",
    "            \"text\": doc['text'],\n",
    "            \"question\": doc['question'],\n",
    "            \"full_text\": full_text,\n",
    "            \"course\": doc['course']\n",
    "        }\n",
    "    )\n",
    "    points.append(point)\n",
    "    id += 1"
   ]
  },
  {
   "cell_type": "code",
   "execution_count": 81,
   "id": "5820b747-dbad-4ae1-86a3-4fef52b5b6ac",
   "metadata": {},
   "outputs": [
    {
     "data": {
      "text/plain": [
       "UpdateResult(operation_id=0, status=<UpdateStatus.COMPLETED: 'completed'>)"
      ]
     },
     "execution_count": 81,
     "metadata": {},
     "output_type": "execute_result"
    }
   ],
   "source": [
    "qd_client.upsert(\n",
    "    collection_name=collection_name_q6,\n",
    "    points=points\n",
    ")"
   ]
  },
  {
   "cell_type": "code",
   "execution_count": 82,
   "id": "ee1f4218-b2f7-477f-9811-84529f1f23b1",
   "metadata": {},
   "outputs": [],
   "source": [
    "q6_query_text = \"I just discovered the course. Can I join now?\"\n",
    "\n",
    "q6_results = qd_client.query_points(\n",
    "    collection_name=collection_name_q6,\n",
    "    query=models.Document(\n",
    "        text=q6_query_text,\n",
    "        model=smaller_model_handle\n",
    "    ),\n",
    "    limit=1,  # Get top 1 results to see all scores\n",
    "    with_payload=True\n",
    ")"
   ]
  },
  {
   "cell_type": "code",
   "execution_count": 84,
   "id": "1696f640-74ba-4500-8a59-c03e0f776043",
   "metadata": {},
   "outputs": [
    {
     "name": "stdout",
     "output_type": "stream",
     "text": [
      "Highest score: 0.8703172\n"
     ]
    }
   ],
   "source": [
    "print(f\"Highest score: {q6_results.points[0].score}\")"
   ]
  }
 ],
 "metadata": {
  "kernelspec": {
   "display_name": "Python 3",
   "language": "python",
   "name": "python3"
  },
  "language_info": {
   "codemirror_mode": {
    "name": "ipython",
    "version": 3
   },
   "file_extension": ".py",
   "mimetype": "text/x-python",
   "name": "python",
   "nbconvert_exporter": "python",
   "pygments_lexer": "ipython3",
   "version": "3.12.1"
  }
 },
 "nbformat": 4,
 "nbformat_minor": 5
}
